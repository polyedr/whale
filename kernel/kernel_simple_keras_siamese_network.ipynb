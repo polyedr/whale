{
 "cells": [
  {
   "cell_type": "markdown",
   "metadata": {
    "_uuid": "69d2efeec40b970538a50997a6ae667fb52145b8"
   },
   "source": [
    "# Image classification with Keras with simple Siamese network"
   ]
  },
  {
   "cell_type": "markdown",
   "metadata": {
    "_uuid": "1edb476cc9fdc8079734156e8c8a3a1f6d18cfbb"
   },
   "source": [
    "![](http://)## Install dependencies"
   ]
  },
  {
   "cell_type": "code",
   "execution_count": 31,
   "metadata": {
    "_uuid": "d9a854a3cd7e221db870f61d95b8372b5e642f69"
   },
   "outputs": [],
   "source": [
    "%matplotlib inline\n",
    "import os\n",
    "import tensorflow as tf\n",
    "import matplotlib.pyplot as plt\n",
    "import numpy as np\n",
    "import numpy.random as rng\n",
    "import pandas as pd\n",
    "import string\n",
    "from PIL import Image\n",
    "from PIL import ImageFont\n",
    "from PIL import ImageDraw\n",
    "from scipy.ndimage.filters import gaussian_filter\n",
    "from scipy import ndimage\n",
    "\n",
    "from keras import regularizers, optimizers\n",
    "from keras.regularizers import l2\n",
    "from keras.utils.np_utils import to_categorical  # convert to one-hot-encoding\n",
    "from keras.models import Model, Sequential\n",
    "from keras.layers import (\n",
    "    Dense,\n",
    "    Dropout,\n",
    "    Flatten,\n",
    "    ZeroPadding2D,\n",
    "    Conv2D,\n",
    "    AveragePooling1D,\n",
    "    MaxPooling2D,\n",
    "    BatchNormalization,\n",
    "    Activation,\n",
    "    Input,\n",
    "    Lambda\n",
    ")\n",
    "from keras.optimizers import Adam\n",
    "from keras.preprocessing.image import ImageDataGenerator\n",
    "from keras.callbacks import LearningRateScheduler\n",
    "from keras.preprocessing.image import (\n",
    "    random_rotation,\n",
    "    random_shift,\n",
    "    random_shear,\n",
    "    random_zoom,\n",
    "    random_channel_shift,\n",
    "    img_to_array,\n",
    "    ImageDataGenerator,\n",
    ")\n",
    "from keras import backend as K\n",
    "from keras.datasets import fashion_mnist\n",
    "from keras_tqdm import TQDMCallback, TQDMNotebookCallback\n",
    "import itertools\n",
    "from sklearn.metrics import confusion_matrix\n",
    "from sklearn.model_selection import train_test_split\n",
    "from collections import Counter\n",
    "from sklearn.utils import class_weight\n"
   ]
  },
  {
   "cell_type": "code",
   "execution_count": 2,
   "metadata": {
    "_uuid": "78bf344f5f3dcd1ff3962520998d7aacf21e98ef"
   },
   "outputs": [],
   "source": [
    "# Set consistent random seed\n",
    "random_seed = 2018\n",
    "np.random.seed(random_seed)  \n",
    "tf.set_random_seed(random_seed)"
   ]
  },
  {
   "cell_type": "markdown",
   "metadata": {
    "_uuid": "2d1d46e6569522b8ecd1b07a7b94a6b1ab9c4d9e"
   },
   "source": []
  },
  {
   "cell_type": "markdown",
   "metadata": {
    "_uuid": "dae00b73201663ee1d221e084857d364f9070948"
   },
   "source": [
    "## Dataset\n",
    "Whales dataset"
   ]
  },
  {
   "cell_type": "markdown",
   "metadata": {
    "_uuid": "153d1c97dabbba900aca6b5ba2610023e6c9ba54"
   },
   "source": [
    "### Show the content of the current and parent folder"
   ]
  },
  {
   "cell_type": "code",
   "execution_count": 3,
   "metadata": {
    "_uuid": "b5a53e5267fe99d98ce6227f54c9952280f67a6e"
   },
   "outputs": [
    {
     "name": "stdout",
     "output_type": "stream",
     "text": [
      "['tracking.txt', 'humpback-whale-identification.zip', 'extract_labels.py', 'test.csv', 'whales_small', 'kernel', 'input', 'miscellanous', '.ipynb_checkpoints', 'results.csv', 'results_pred.csv', 'kernel_categorical_accuracy.ipynb', '.directory', '.gitignore', '.git']\n",
      "['kernel.ipynb', 'kernel(1).ipynb', '128', '8192', 'kernel_vgg19_adapted.ipynb', '.ipynb_checkpoints', 'submit.csv', 'results.csv', 'results_pred.csv', 'kernel_pre_mlp.ipynb', 'kernel_simple_keras_mlp.ipynb', 'kernel_simple_keras_mlp.py', '.idea', 'kernel_vgg19_simple.ipynb', 'kernel_vgg19_simple.py', 'kernel_simple_keras_siamese_network.ipynb']\n"
     ]
    }
   ],
   "source": [
    "print(os.listdir(\"..\"))\n",
    "print(os.listdir(\".\"))"
   ]
  },
  {
   "cell_type": "markdown",
   "metadata": {
    "_uuid": "fe89170d5cfe11ff0e517ac2be24c8a93679b3ee"
   },
   "source": [
    "### Show the content of the input folder"
   ]
  },
  {
   "cell_type": "code",
   "execution_count": 4,
   "metadata": {
    "_uuid": "f5d2eadabe3dcff48419b129b0731cd6ac5238ba"
   },
   "outputs": [
    {
     "name": "stdout",
     "output_type": "stream",
     "text": [
      "['sample_submission.csv', 'test.zip', 'train.csv', 'train.zip', 'train', 'test', '.ipynb_checkpoints']\n"
     ]
    }
   ],
   "source": [
    "print(os.listdir(\"../input\"))"
   ]
  },
  {
   "cell_type": "markdown",
   "metadata": {
    "_uuid": "2c3c0355171cc1c56578f56b884fb98607691550"
   },
   "source": [
    "### Importing, normalizing, visualizing"
   ]
  },
  {
   "cell_type": "markdown",
   "metadata": {
    "_uuid": "1dfb8fd00f700d01d58c2daefbbe66999079cec3"
   },
   "source": [
    "Let's upload whales dataset."
   ]
  },
  {
   "cell_type": "code",
   "execution_count": 5,
   "metadata": {
    "_uuid": "a3511c220c54d001ade23212c8500c1da4587651"
   },
   "outputs": [
    {
     "data": {
      "text/plain": [
       "\"\\ndatagen = ImageDataGenerator(\\n        rotation_range=20,\\n        width_shift_range=0.1,\\n        height_shift_range=0.1,\\n        shear_range=0.5,\\n        zoom_range=(0.9, 1.1),\\n        horizontal_flip=False,\\n        vertical_flip=False,\\n        fill_mode='constant',\\n        cval=0,\\n        rescale=1./255.,\\n        validation_split=0.25    \\n)\\n\""
      ]
     },
     "execution_count": 5,
     "metadata": {},
     "output_type": "execute_result"
    },
    {
     "data": {
      "image/png": "[encoded data removed]",
      "text/plain": [
       "<Figure size 432x288 with 1 Axes>"
      ]
     },
     "metadata": {
      "needs_background": "light"
     },
     "output_type": "display_data"
    }
   ],
   "source": [
    "# flow_from_dataframe\n",
    "traindf=pd.read_csv(\"../input/train.csv\",dtype=str)\n",
    "# Remove new whales from input\n",
    "traindf = traindf[traindf.Id != \"new_whale\"]\n",
    "# Remove single whales values\n",
    "# traindf = traindf.groupby('Id').filter(lambda x: len(x) > 1)\n",
    "# Plot Id frequencies\n",
    "traindf['Id'].value_counts()[1:16].plot(kind='bar')\n",
    "\n",
    "testdf=pd.read_csv(\"../input/sample_submission.csv\",dtype=str)\n",
    "\n",
    "datagen=ImageDataGenerator(rescale=1./255.,validation_split=0.25)\n",
    "\"\"\"\n",
    "datagen = ImageDataGenerator(\n",
    "        rotation_range=20,\n",
    "        width_shift_range=0.1,\n",
    "        height_shift_range=0.1,\n",
    "        shear_range=0.5,\n",
    "        zoom_range=(0.9, 1.1),\n",
    "        horizontal_flip=False,\n",
    "        vertical_flip=False,\n",
    "        fill_mode='constant',\n",
    "        cval=0,\n",
    "        rescale=1./255.,\n",
    "        validation_split=0.25    \n",
    ")\n",
    "\"\"\""
   ]
  },
  {
   "cell_type": "markdown",
   "metadata": {
    "_uuid": "719fb63b764a0a9922c03f4113944d9654ea6776"
   },
   "source": [
    "Print obtained dataframes for checking"
   ]
  },
  {
   "cell_type": "code",
   "execution_count": 6,
   "metadata": {
    "_uuid": "12537f7667d69638cb0ff5bac022b4c810abb59c"
   },
   "outputs": [],
   "source": [
    "traindf.shape\n",
    "# Calculate number of unique classes (whales)\n",
    "number_of_classes = traindf['Id'].nunique()"
   ]
  },
  {
   "cell_type": "code",
   "execution_count": 7,
   "metadata": {
    "_uuid": "c51bbc67a4d2b97b4cca0f1ad1d0516f22c51b3a"
   },
   "outputs": [
    {
     "data": {
      "text/html": [
       "<div>\n",
       "<style scoped>\n",
       "    .dataframe tbody tr th:only-of-type {\n",
       "        vertical-align: middle;\n",
       "    }\n",
       "\n",
       "    .dataframe tbody tr th {\n",
       "        vertical-align: top;\n",
       "    }\n",
       "\n",
       "    .dataframe thead th {\n",
       "        text-align: right;\n",
       "    }\n",
       "</style>\n",
       "<table border=\"1\" class=\"dataframe\">\n",
       "  <thead>\n",
       "    <tr style=\"text-align: right;\">\n",
       "      <th></th>\n",
       "      <th>Image</th>\n",
       "      <th>Id</th>\n",
       "    </tr>\n",
       "  </thead>\n",
       "  <tbody>\n",
       "    <tr>\n",
       "      <th>0</th>\n",
       "      <td>00028a005.jpg</td>\n",
       "      <td>new_whale w_23a388d w_9b5109b w_9c506f6 w_0369a5c</td>\n",
       "    </tr>\n",
       "  </tbody>\n",
       "</table>\n",
       "</div>"
      ],
      "text/plain": [
       "           Image                                                 Id\n",
       "0  00028a005.jpg  new_whale w_23a388d w_9b5109b w_9c506f6 w_0369a5c"
      ]
     },
     "execution_count": 7,
     "metadata": {},
     "output_type": "execute_result"
    }
   ],
   "source": [
    "testdf.head(1)"
   ]
  },
  {
   "cell_type": "code",
   "execution_count": 8,
   "metadata": {
    "_uuid": "17b1aabe891e79ea851b4953857d2e213d189523"
   },
   "outputs": [
    {
     "name": "stdout",
     "output_type": "stream",
     "text": [
      "Found 11823 images belonging to 5004 classes.\n",
      "Found 3874 images belonging to 5004 classes.\n",
      "Found 7960 images.\n"
     ]
    }
   ],
   "source": [
    "# Pass the dataframes to 2 different flow_from_dataframe functions\n",
    "train_generator = datagen.flow_from_dataframe(\n",
    "    dataframe=traindf,\n",
    "    directory=\"../input/train/\",\n",
    "    x_col=\"Image\",\n",
    "    y_col=\"Id\",\n",
    "    subset=\"training\",\n",
    "    batch_size=32,\n",
    "    seed=42,\n",
    "    shuffle=True,\n",
    "    class_mode=\"categorical\",\n",
    "    target_size=(80, 80),\n",
    ")\n",
    "\n",
    "valid_generator = datagen.flow_from_dataframe(\n",
    "    dataframe=traindf,\n",
    "    directory=\"../input/train/\",\n",
    "    x_col=\"Image\",\n",
    "    y_col=\"Id\",\n",
    "    subset=\"validation\",\n",
    "    batch_size=32,\n",
    "    seed=42,\n",
    "    shuffle=True,\n",
    "    class_mode=\"categorical\",\n",
    "    target_size=(80, 80),\n",
    ")\n",
    "\n",
    "test_datagen = ImageDataGenerator(rescale=1.0 / 255.0)\n",
    "\n",
    "test_generator = test_datagen.flow_from_dataframe(\n",
    "    dataframe=testdf,\n",
    "    directory=\"../input/test/\",\n",
    "    x_col=\"Image\",\n",
    "    y_col=None,\n",
    "    batch_size=32,\n",
    "    seed=42,\n",
    "    shuffle=False,\n",
    "    class_mode=None,\n",
    "    target_size=(80, 80),\n",
    ")"
   ]
  },
  {
   "cell_type": "code",
   "execution_count": 32,
   "metadata": {
    "_uuid": "8c5edbb0be6a2744be4b83100117fc529c811966"
   },
   "outputs": [
    {
     "name": "stdout",
     "output_type": "stream",
     "text": [
      "The model was compiled\n"
     ]
    }
   ],
   "source": [
    "def W_init(shape,name=None):\n",
    "    \"\"\"Initialize weights as in paper\"\"\"\n",
    "    values = rng.normal(loc=0,scale=1e-2,size=shape)\n",
    "    return K.variable(values,name=name)\n",
    "\n",
    "def b_init(shape,name=None):\n",
    "    \"\"\"Initialize bias as in paper\"\"\"\n",
    "    values=rng.normal(loc=0.5,scale=1e-2,size=shape)\n",
    "    return K.variable(values,name=name)\n",
    "\n",
    "# Siamese network model\n",
    "def get_siamese_model(input_shape):\n",
    "    \"\"\"\n",
    "        Model architecture\n",
    "    \"\"\"\n",
    "    \n",
    "    # Define the tensors for the two input images\n",
    "    left_input = Input(input_shape)\n",
    "    right_input = Input(input_shape)\n",
    "    \n",
    "    # Convolutional Neural Network\n",
    "    model = Sequential()\n",
    "    model.add(Conv2D(64, (10,10), activation='relu', input_shape=input_shape,\n",
    "                   kernel_initializer=W_init, kernel_regularizer=l2(2e-4)))\n",
    "    model.add(MaxPooling2D())\n",
    "    model.add(Conv2D(128, (7,7), activation='relu',\n",
    "                     kernel_initializer=W_init,\n",
    "                     bias_initializer=b_init, kernel_regularizer=l2(2e-4)))\n",
    "    model.add(MaxPooling2D())\n",
    "    model.add(Conv2D(128, (4,4), activation='relu', kernel_initializer=W_init,\n",
    "                     bias_initializer=b_init, kernel_regularizer=l2(2e-4)))\n",
    "    model.add(MaxPooling2D())\n",
    "    model.add(Conv2D(256, (4,4), activation='relu', kernel_initializer=W_init,\n",
    "                     bias_initializer=b_init, kernel_regularizer=l2(2e-4)))\n",
    "    model.add(Flatten())\n",
    "    model.add(Dense(4096, activation='sigmoid',\n",
    "                   kernel_regularizer=l2(1e-3),\n",
    "                   kernel_initializer=W_init,bias_initializer=b_init))\n",
    "    \n",
    "    # Generate the encodings (feature vectors) for the two images\n",
    "    encoded_l = model(left_input)\n",
    "    encoded_r = model(right_input)\n",
    "    \n",
    "    # Add a customized layer to compute the absolute difference between the encodings\n",
    "    L1_layer = Lambda(lambda tensors:K.abs(tensors[0] - tensors[1]))\n",
    "    L1_distance = L1_layer([encoded_l, encoded_r])\n",
    "    \n",
    "    # Add a dense layer with a sigmoid unit to generate the similarity score\n",
    "    prediction = Dense(1,activation='sigmoid',bias_initializer=b_init)(L1_distance)\n",
    "    \n",
    "    # Connect the inputs with the outputs\n",
    "    siamese_net = Model(inputs=[left_input,right_input],outputs=prediction)\n",
    "    \n",
    "    # return the model\n",
    "    return siamese_net\n",
    "\n",
    "the_input_shape=(80, 80, 3)\n",
    "model = get_siamese_model(the_input_shape)\n",
    "optimizer = Adam(lr = 0.0001)\n",
    "model.compile(loss=\"binary_crossentropy\",optimizer=optimizer, metrics=[\"accuracy\"])\n",
    "\n",
    "print(\"The model was compiled\")"
   ]
  },
  {
   "cell_type": "code",
   "execution_count": 33,
   "metadata": {
    "_uuid": "a327641474e8e4f16db9425e2480df704c1b1670"
   },
   "outputs": [
    {
     "name": "stdout",
     "output_type": "stream",
     "text": [
      "Epoch 1/1\n"
     ]
    },
    {
     "ename": "ValueError",
     "evalue": "Error when checking model input: the list of Numpy arrays that you are passing to your model is not the size the model expected. Expected to see 2 array(s), but instead got the following list of 1 arrays: [array([[[[0.63529414, 0.68235296, 0.74509805],\n         [0.6431373 , 0.6862745 , 0.7568628 ],\n         [0.6627451 , 0.7137255 , 0.7803922 ],\n         ...,\n         [0.59607846, 0.627451  , 0.7019608 ...",
     "output_type": "error",
     "traceback": [
      "\u001b[0;31m---------------------------------------------------------------------------\u001b[0m",
      "\u001b[0;31mValueError\u001b[0m                                Traceback (most recent call last)",
      "\u001b[0;32m<ipython-input-33-bce164d10284>\u001b[0m in \u001b[0;36m<module>\u001b[0;34m\u001b[0m\n\u001b[1;32m     11\u001b[0m     \u001b[0mvalidation_steps\u001b[0m\u001b[0;34m=\u001b[0m\u001b[0mSTEP_SIZE_VALID\u001b[0m\u001b[0;34m,\u001b[0m\u001b[0;34m\u001b[0m\u001b[0m\n\u001b[1;32m     12\u001b[0m     \u001b[0mclass_weight\u001b[0m\u001b[0;34m=\u001b[0m\u001b[0;34m\"auto\"\u001b[0m\u001b[0;34m,\u001b[0m\u001b[0;34m\u001b[0m\u001b[0m\n\u001b[0;32m---> 13\u001b[0;31m     \u001b[0mepochs\u001b[0m\u001b[0;34m=\u001b[0m\u001b[0;36m1\u001b[0m\u001b[0;34m,\u001b[0m\u001b[0;34m\u001b[0m\u001b[0m\n\u001b[0m\u001b[1;32m     14\u001b[0m )\n\u001b[1;32m     15\u001b[0m \u001b[0;34m\u001b[0m\u001b[0m\n",
      "\u001b[0;32m~/Keras/kerasvenv/lib64/python3.6/site-packages/keras/legacy/interfaces.py\u001b[0m in \u001b[0;36mwrapper\u001b[0;34m(*args, **kwargs)\u001b[0m\n\u001b[1;32m     89\u001b[0m                 warnings.warn('Update your `' + object_name + '` call to the ' +\n\u001b[1;32m     90\u001b[0m                               'Keras 2 API: ' + signature, stacklevel=2)\n\u001b[0;32m---> 91\u001b[0;31m             \u001b[0;32mreturn\u001b[0m \u001b[0mfunc\u001b[0m\u001b[0;34m(\u001b[0m\u001b[0;34m*\u001b[0m\u001b[0margs\u001b[0m\u001b[0;34m,\u001b[0m \u001b[0;34m**\u001b[0m\u001b[0mkwargs\u001b[0m\u001b[0;34m)\u001b[0m\u001b[0;34m\u001b[0m\u001b[0m\n\u001b[0m\u001b[1;32m     92\u001b[0m         \u001b[0mwrapper\u001b[0m\u001b[0;34m.\u001b[0m\u001b[0m_original_function\u001b[0m \u001b[0;34m=\u001b[0m \u001b[0mfunc\u001b[0m\u001b[0;34m\u001b[0m\u001b[0m\n\u001b[1;32m     93\u001b[0m         \u001b[0;32mreturn\u001b[0m \u001b[0mwrapper\u001b[0m\u001b[0;34m\u001b[0m\u001b[0m\n",
      "\u001b[0;32m~/Keras/kerasvenv/lib64/python3.6/site-packages/keras/engine/training.py\u001b[0m in \u001b[0;36mfit_generator\u001b[0;34m(self, generator, steps_per_epoch, epochs, verbose, callbacks, validation_data, validation_steps, class_weight, max_queue_size, workers, use_multiprocessing, shuffle, initial_epoch)\u001b[0m\n\u001b[1;32m   1416\u001b[0m             \u001b[0muse_multiprocessing\u001b[0m\u001b[0;34m=\u001b[0m\u001b[0muse_multiprocessing\u001b[0m\u001b[0;34m,\u001b[0m\u001b[0;34m\u001b[0m\u001b[0m\n\u001b[1;32m   1417\u001b[0m             \u001b[0mshuffle\u001b[0m\u001b[0;34m=\u001b[0m\u001b[0mshuffle\u001b[0m\u001b[0;34m,\u001b[0m\u001b[0;34m\u001b[0m\u001b[0m\n\u001b[0;32m-> 1418\u001b[0;31m             initial_epoch=initial_epoch)\n\u001b[0m\u001b[1;32m   1419\u001b[0m \u001b[0;34m\u001b[0m\u001b[0m\n\u001b[1;32m   1420\u001b[0m     \u001b[0;34m@\u001b[0m\u001b[0minterfaces\u001b[0m\u001b[0;34m.\u001b[0m\u001b[0mlegacy_generator_methods_support\u001b[0m\u001b[0;34m\u001b[0m\u001b[0m\n",
      "\u001b[0;32m~/Keras/kerasvenv/lib64/python3.6/site-packages/keras/engine/training_generator.py\u001b[0m in \u001b[0;36mfit_generator\u001b[0;34m(model, generator, steps_per_epoch, epochs, verbose, callbacks, validation_data, validation_steps, class_weight, max_queue_size, workers, use_multiprocessing, shuffle, initial_epoch)\u001b[0m\n\u001b[1;32m    215\u001b[0m                 outs = model.train_on_batch(x, y,\n\u001b[1;32m    216\u001b[0m                                             \u001b[0msample_weight\u001b[0m\u001b[0;34m=\u001b[0m\u001b[0msample_weight\u001b[0m\u001b[0;34m,\u001b[0m\u001b[0;34m\u001b[0m\u001b[0m\n\u001b[0;32m--> 217\u001b[0;31m                                             class_weight=class_weight)\n\u001b[0m\u001b[1;32m    218\u001b[0m \u001b[0;34m\u001b[0m\u001b[0m\n\u001b[1;32m    219\u001b[0m                 \u001b[0mouts\u001b[0m \u001b[0;34m=\u001b[0m \u001b[0mto_list\u001b[0m\u001b[0;34m(\u001b[0m\u001b[0mouts\u001b[0m\u001b[0;34m)\u001b[0m\u001b[0;34m\u001b[0m\u001b[0m\n",
      "\u001b[0;32m~/Keras/kerasvenv/lib64/python3.6/site-packages/keras/engine/training.py\u001b[0m in \u001b[0;36mtrain_on_batch\u001b[0;34m(self, x, y, sample_weight, class_weight)\u001b[0m\n\u001b[1;32m   1209\u001b[0m             \u001b[0mx\u001b[0m\u001b[0;34m,\u001b[0m \u001b[0my\u001b[0m\u001b[0;34m,\u001b[0m\u001b[0;34m\u001b[0m\u001b[0m\n\u001b[1;32m   1210\u001b[0m             \u001b[0msample_weight\u001b[0m\u001b[0;34m=\u001b[0m\u001b[0msample_weight\u001b[0m\u001b[0;34m,\u001b[0m\u001b[0;34m\u001b[0m\u001b[0m\n\u001b[0;32m-> 1211\u001b[0;31m             class_weight=class_weight)\n\u001b[0m\u001b[1;32m   1212\u001b[0m         \u001b[0;32mif\u001b[0m \u001b[0mself\u001b[0m\u001b[0;34m.\u001b[0m\u001b[0m_uses_dynamic_learning_phase\u001b[0m\u001b[0;34m(\u001b[0m\u001b[0;34m)\u001b[0m\u001b[0;34m:\u001b[0m\u001b[0;34m\u001b[0m\u001b[0m\n\u001b[1;32m   1213\u001b[0m             \u001b[0mins\u001b[0m \u001b[0;34m=\u001b[0m \u001b[0mx\u001b[0m \u001b[0;34m+\u001b[0m \u001b[0my\u001b[0m \u001b[0;34m+\u001b[0m \u001b[0msample_weights\u001b[0m \u001b[0;34m+\u001b[0m \u001b[0;34m[\u001b[0m\u001b[0;36m1.\u001b[0m\u001b[0;34m]\u001b[0m\u001b[0;34m\u001b[0m\u001b[0m\n",
      "\u001b[0;32m~/Keras/kerasvenv/lib64/python3.6/site-packages/keras/engine/training.py\u001b[0m in \u001b[0;36m_standardize_user_data\u001b[0;34m(self, x, y, sample_weight, class_weight, check_array_lengths, batch_size)\u001b[0m\n\u001b[1;32m    749\u001b[0m             \u001b[0mfeed_input_shapes\u001b[0m\u001b[0;34m,\u001b[0m\u001b[0;34m\u001b[0m\u001b[0m\n\u001b[1;32m    750\u001b[0m             \u001b[0mcheck_batch_axis\u001b[0m\u001b[0;34m=\u001b[0m\u001b[0;32mFalse\u001b[0m\u001b[0;34m,\u001b[0m  \u001b[0;31m# Don't enforce the batch size.\u001b[0m\u001b[0;34m\u001b[0m\u001b[0m\n\u001b[0;32m--> 751\u001b[0;31m             exception_prefix='input')\n\u001b[0m\u001b[1;32m    752\u001b[0m \u001b[0;34m\u001b[0m\u001b[0m\n\u001b[1;32m    753\u001b[0m         \u001b[0;32mif\u001b[0m \u001b[0my\u001b[0m \u001b[0;32mis\u001b[0m \u001b[0;32mnot\u001b[0m \u001b[0;32mNone\u001b[0m\u001b[0;34m:\u001b[0m\u001b[0;34m\u001b[0m\u001b[0m\n",
      "\u001b[0;32m~/Keras/kerasvenv/lib64/python3.6/site-packages/keras/engine/training_utils.py\u001b[0m in \u001b[0;36mstandardize_input_data\u001b[0;34m(data, names, shapes, check_batch_axis, exception_prefix)\u001b[0m\n\u001b[1;32m    100\u001b[0m                 \u001b[0;34m'Expected to see '\u001b[0m \u001b[0;34m+\u001b[0m \u001b[0mstr\u001b[0m\u001b[0;34m(\u001b[0m\u001b[0mlen\u001b[0m\u001b[0;34m(\u001b[0m\u001b[0mnames\u001b[0m\u001b[0;34m)\u001b[0m\u001b[0;34m)\u001b[0m \u001b[0;34m+\u001b[0m \u001b[0;34m' array(s), '\u001b[0m\u001b[0;34m\u001b[0m\u001b[0m\n\u001b[1;32m    101\u001b[0m                 \u001b[0;34m'but instead got the following list of '\u001b[0m \u001b[0;34m+\u001b[0m\u001b[0;34m\u001b[0m\u001b[0m\n\u001b[0;32m--> 102\u001b[0;31m                 str(len(data)) + ' arrays: ' + str(data)[:200] + '...')\n\u001b[0m\u001b[1;32m    103\u001b[0m         \u001b[0;32melif\u001b[0m \u001b[0mlen\u001b[0m\u001b[0;34m(\u001b[0m\u001b[0mnames\u001b[0m\u001b[0;34m)\u001b[0m \u001b[0;34m>\u001b[0m \u001b[0;36m1\u001b[0m\u001b[0;34m:\u001b[0m\u001b[0;34m\u001b[0m\u001b[0m\n\u001b[1;32m    104\u001b[0m             raise ValueError(\n",
      "\u001b[0;31mValueError\u001b[0m: Error when checking model input: the list of Numpy arrays that you are passing to your model is not the size the model expected. Expected to see 2 array(s), but instead got the following list of 1 arrays: [array([[[[0.63529414, 0.68235296, 0.74509805],\n         [0.6431373 , 0.6862745 , 0.7568628 ],\n         [0.6627451 , 0.7137255 , 0.7803922 ],\n         ...,\n         [0.59607846, 0.627451  , 0.7019608 ..."
     ]
    }
   ],
   "source": [
    "# Fit the model @frommedium\n",
    "# https://medium.com/@vijayabhaskar96/tutorial-on-keras-flow-from-dataframe-1fd4493d237c\n",
    "STEP_SIZE_TRAIN=train_generator.n//train_generator.batch_size\n",
    "STEP_SIZE_VALID=valid_generator.n//valid_generator.batch_size\n",
    "STEP_SIZE_TEST=test_generator.n//test_generator.batch_size\n",
    "# Class weights balancing\n",
    "history = model.fit_generator(\n",
    "    generator=train_generator,\n",
    "    steps_per_epoch=STEP_SIZE_TRAIN,\n",
    "    validation_data=valid_generator,\n",
    "    validation_steps=STEP_SIZE_VALID,\n",
    "    class_weight=\"auto\",\n",
    "    epochs=1,\n",
    ")\n",
    "\n"
   ]
  },
  {
   "cell_type": "code",
   "execution_count": null,
   "metadata": {
    "_uuid": "76c432630680af5db7238f8fdbfc6bc79aa53ab9"
   },
   "outputs": [],
   "source": [
    "# history plots\n",
    "plt.plot(history.history['acc'])\n",
    "plt.title('Model accuracy')\n",
    "plt.ylabel('accuracy')\n",
    "plt.xlabel('Epoch')\n",
    "plt.show()\n",
    "\n",
    "# Plot the loss curve for training\n",
    "plt.plot(history.history['loss'], color='r', label=\"Train Loss\")\n",
    "plt.title(\"Train Loss\")\n",
    "plt.xlabel(\"Number of Epochs\")\n",
    "plt.ylabel(\"Loss\")\n",
    "plt.legend()\n",
    "plt.show()"
   ]
  },
  {
   "cell_type": "code",
   "execution_count": null,
   "metadata": {
    "_uuid": "c9293c3f6eeed1df370336320229ff3aa5a0e6c2"
   },
   "outputs": [],
   "source": [
    "# Evaluate model\n",
    "model.evaluate_generator(generator=valid_generator, steps=1)"
   ]
  },
  {
   "cell_type": "code",
   "execution_count": null,
   "metadata": {
    "_kg_hide-output": true,
    "_uuid": "f1b92e7a9e0bc0f6130a092023943447137db546"
   },
   "outputs": [],
   "source": [
    "# Predict the output\n",
    "test_generator.reset()\n",
    "pred = model.predict_generator(test_generator, steps=STEP_SIZE_TEST + 1, verbose=1)\n",
    "\n",
    "predicted_class_indices = np.argmax(pred, axis=1)\n",
    "\n",
    "labels = train_generator.class_indices\n",
    "labels = dict((v, k) for k, v in labels.items())\n",
    "predictions = [labels[k] for k in predicted_class_indices]\n",
    "\n",
    "filenames = test_generator.filenames\n",
    "\n",
    "print(\"Filenames were prepared\")"
   ]
  },
  {
   "cell_type": "code",
   "execution_count": null,
   "metadata": {
    "_uuid": "8769dc3c129d44a3e1afe5f2c6d51714cf7f4bde"
   },
   "outputs": [],
   "source": [
    "# Multiple classes output\n",
    "# https://www.kaggle.com/hexadd5/simple-resnet50-with-keras\n",
    "kth = 5\n",
    "classes = np.array([c for c, v in train_generator.class_indices.items()])\n",
    "\n",
    "if True:\n",
    "    classify_index = np.argpartition(-pred, kth)[:, :kth]\n",
    "    classify_value = pred[np.arange(pred.shape[0])[:, None], classify_index]\n",
    "    best_5_pred = np.zeros((len(classify_index), 5))\n",
    "    best_5_class = np.zeros((len(classify_index), 5), dtype=\"int32\")\n",
    "    for i, p in enumerate(classify_value):\n",
    "        sort_index = np.argsort(p)[::-1]\n",
    "        best_5_pred[i] = p[sort_index]\n",
    "        best_5_class[i] = classify_index[i][sort_index]\n",
    "\n",
    "    # create output\n",
    "    submit = pd.DataFrame(columns=[\"Image\", \"Id\"])\n",
    "    for i, p in enumerate(best_5_pred):\n",
    "        submit_classes = []\n",
    "        if p[0] < 0.55:\n",
    "            submit_classes.append(\"new_whale\")\n",
    "            submit_classes.extend(classes[best_5_class[i]][0:4])\n",
    "        elif p[1] < 0.4:\n",
    "            submit_classes.extend(classes[best_5_class[i]][0:1])\n",
    "            submit_classes.append(\"new_whale\")\n",
    "            submit_classes.extend(classes[best_5_class[i]][1:4])\n",
    "        elif p[2] < 0.1:\n",
    "            submit_classes.extend(classes[best_5_class[i]][0:2])\n",
    "            submit_classes.append(\"new_whale\")\n",
    "            submit_classes.extend(classes[best_5_class[i]][2:4])\n",
    "        elif p[3] < 0.05:\n",
    "            submit_classes.extend(classes[best_5_class[i]][0:3])\n",
    "            submit_classes.append(\"new_whale\")\n",
    "            submit_classes.extend(classes[best_5_class[i]][3:4])\n",
    "        else:\n",
    "            submit_classes.extend(classes[best_5_class[i]])\n",
    "        classes_text = \" \".join(submit_classes)\n",
    "        submit = submit.append(\n",
    "            pd.Series(\n",
    "                np.array([test_generator.filenames[i], classes_text]),\n",
    "                index=submit.columns,\n",
    "            ),\n",
    "            ignore_index=True,\n",
    "        )\n",
    "        # print(submit)\n",
    "    submit.to_csv(\"submit.csv\", index=False)\n",
    "    print(\"Submission results were written\")\n"
   ]
  }
 ],
 "metadata": {
  "kernelspec": {
   "display_name": "Python 3",
   "language": "python",
   "name": "python3"
  },
  "language_info": {
   "codemirror_mode": {
    "name": "ipython",
    "version": 3
   },
   "file_extension": ".py",
   "mimetype": "text/x-python",
   "name": "python",
   "nbconvert_exporter": "python",
   "pygments_lexer": "ipython3",
   "version": "3.6.5"
  }
 },
 "nbformat": 4,
 "nbformat_minor": 1
}
