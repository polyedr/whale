{
 "cells": [
  {
   "cell_type": "markdown",
   "metadata": {
    "_uuid": "69d2efeec40b970538a50997a6ae667fb52145b8"
   },
   "source": [
    "# Image classification with Keras"
   ]
  },
  {
   "cell_type": "markdown",
   "metadata": {
    "_uuid": "1edb476cc9fdc8079734156e8c8a3a1f6d18cfbb"
   },
   "source": [
    "![](http://)## Install dependencies"
   ]
  },
  {
   "cell_type": "code",
   "execution_count": 12,
   "metadata": {
    "_uuid": "d9a854a3cd7e221db870f61d95b8372b5e642f69"
   },
   "outputs": [
    {
     "name": "stdout",
     "output_type": "stream",
     "text": [
      "import is ready\n"
     ]
    }
   ],
   "source": [
    "%matplotlib inline\n",
    "import os\n",
    "import tensorflow as tf\n",
    "import matplotlib.pyplot as plt\n",
    "import numpy as np\n",
    "import pandas as pd\n",
    "import string\n",
    "from PIL import Image\n",
    "from PIL import ImageFont\n",
    "from PIL import ImageDraw\n",
    "from scipy.ndimage.filters import gaussian_filter\n",
    "from scipy import ndimage\n",
    "\n",
    "from keras import regularizers, optimizers\n",
    "from keras.utils.np_utils import to_categorical # convert to one-hot-encoding\n",
    "from keras.models import Sequential\n",
    "from keras.layers import Dense, Dropout, Flatten, ZeroPadding2D, Conv2D, MaxPool2D, BatchNormalization, Activation\n",
    "from keras.optimizers import Adam\n",
    "from keras.preprocessing.image import ImageDataGenerator\n",
    "from keras.callbacks import LearningRateScheduler\n",
    "from keras.preprocessing.image import (\n",
    "    random_rotation, random_shift, random_shear, random_zoom,\n",
    "    random_channel_shift, img_to_array, ImageDataGenerator)\n",
    "from keras import backend as K\n",
    "from keras.datasets import fashion_mnist\n",
    "from keras_tqdm import TQDMCallback, TQDMNotebookCallback\n",
    "import itertools\n",
    "from sklearn.metrics import confusion_matrix\n",
    "from sklearn.model_selection import train_test_split\n",
    "from collections import Counter\n",
    "from sklearn.utils import class_weight\n",
    "print(\"import is ready\")"
   ]
  },
  {
   "cell_type": "code",
   "execution_count": 13,
   "metadata": {
    "_uuid": "78bf344f5f3dcd1ff3962520998d7aacf21e98ef"
   },
   "outputs": [],
   "source": [
    "# set consistent random seed\n",
    "random_seed = 2018\n",
    "np.random.seed(random_seed)  \n",
    "tf.set_random_seed(random_seed)"
   ]
  },
  {
   "cell_type": "markdown",
   "metadata": {
    "_uuid": "2d1d46e6569522b8ecd1b07a7b94a6b1ab9c4d9e"
   },
   "source": []
  },
  {
   "cell_type": "markdown",
   "metadata": {
    "_uuid": "dae00b73201663ee1d221e084857d364f9070948"
   },
   "source": [
    "## Dataset\n",
    "Whales dataset"
   ]
  },
  {
   "cell_type": "markdown",
   "metadata": {
    "_uuid": "153d1c97dabbba900aca6b5ba2610023e6c9ba54"
   },
   "source": [
    "### Show the content of the current and parent folder"
   ]
  },
  {
   "cell_type": "code",
   "execution_count": 14,
   "metadata": {
    "_uuid": "b5a53e5267fe99d98ce6227f54c9952280f67a6e"
   },
   "outputs": [
    {
     "name": "stdout",
     "output_type": "stream",
     "text": [
      "['tracking.txt', 'humpback-whale-identification.zip', 'extract_labels.py', 'test.csv', 'whales_small', 'kernel', 'input', 'miscellanous', '.ipynb_checkpoints', 'results.csv', 'results_pred.csv', 'kernel_categorical_accuracy.ipynb', '.directory', '.gitignore', '.git']\n",
      "['kernel.ipynb', 'kernel(1).ipynb', '128', '8192', 'kernel_vgg19_adapted.ipynb', '.ipynb_checkpoints', 'submit.csv', 'results.csv', 'results_pred.csv', 'kernel_pre_mlp.ipynb']\n"
     ]
    }
   ],
   "source": [
    "print(os.listdir(\"..\"))\n",
    "print(os.listdir(\".\"))"
   ]
  },
  {
   "cell_type": "markdown",
   "metadata": {
    "_uuid": "fe89170d5cfe11ff0e517ac2be24c8a93679b3ee"
   },
   "source": [
    "### Show the content of the input folder"
   ]
  },
  {
   "cell_type": "code",
   "execution_count": 15,
   "metadata": {
    "_uuid": "f5d2eadabe3dcff48419b129b0731cd6ac5238ba"
   },
   "outputs": [
    {
     "name": "stdout",
     "output_type": "stream",
     "text": [
      "['sample_submission.csv', 'test.zip', 'train.csv', 'train.zip', 'train', 'test', '.ipynb_checkpoints']\n"
     ]
    }
   ],
   "source": [
    "print(os.listdir(\"../input\"))"
   ]
  },
  {
   "cell_type": "markdown",
   "metadata": {
    "_uuid": "2c3c0355171cc1c56578f56b884fb98607691550"
   },
   "source": [
    "### Importing, normalizing, visualizing"
   ]
  },
  {
   "cell_type": "markdown",
   "metadata": {
    "_uuid": "1dfb8fd00f700d01d58c2daefbbe66999079cec3"
   },
   "source": [
    "Let's upload whales dataset."
   ]
  },
  {
   "cell_type": "code",
   "execution_count": 16,
   "metadata": {
    "_uuid": "a3511c220c54d001ade23212c8500c1da4587651"
   },
   "outputs": [
    {
     "data": {
      "image/png": "[encoded data removed]",
      "text/plain": [
       "<Figure size 432x288 with 1 Axes>"
      ]
     },
     "metadata": {
      "needs_background": "light"
     },
     "output_type": "display_data"
    }
   ],
   "source": [
    "# flow_from_dataframe\n",
    "# https://medium.com/@vijayabhaskar96/tutorial-on-keras-flow-from-dataframe-1fd4493d237c\n",
    "traindf=pd.read_csv(\"../input/train.csv\",dtype=str)\n",
    "# remove new whales from input\n",
    "traindf = traindf[traindf.Id != \"new_whale\"]\n",
    "# remove single whales values\n",
    "# traindf = traindf.groupby('Id').filter(lambda x: len(x) > 1)\n",
    "# plot Id frequencies\n",
    "traindf['Id'].value_counts()[1:16].plot(kind='bar')\n",
    "\n",
    "testdf=pd.read_csv(\"../input/sample_submission.csv\",dtype=str)\n",
    "\n",
    "# datagen=ImageDataGenerator(rescale=1./255.,validation_split=0.25)\n",
    "datagen = ImageDataGenerator(\n",
    "        rotation_range=20,\n",
    "        width_shift_range=0.1,\n",
    "        height_shift_range=0.1,\n",
    "        shear_range=0.5,\n",
    "        zoom_range=(0.9, 1.1),\n",
    "        horizontal_flip=False,\n",
    "        vertical_flip=False,\n",
    "        fill_mode='constant',\n",
    "        cval=0,\n",
    "        rescale=1./255.,\n",
    "        validation_split=0.25    \n",
    ")"
   ]
  },
  {
   "cell_type": "markdown",
   "metadata": {
    "_uuid": "719fb63b764a0a9922c03f4113944d9654ea6776"
   },
   "source": [
    "Print obtained dataframes for checking"
   ]
  },
  {
   "cell_type": "code",
   "execution_count": 17,
   "metadata": {
    "_uuid": "12537f7667d69638cb0ff5bac022b4c810abb59c"
   },
   "outputs": [],
   "source": [
    "traindf.shape\n",
    "# Calculate number of unique classes (whales)\n",
    "number_of_classes = traindf['Id'].nunique()"
   ]
  },
  {
   "cell_type": "code",
   "execution_count": 18,
   "metadata": {
    "_uuid": "c51bbc67a4d2b97b4cca0f1ad1d0516f22c51b3a"
   },
   "outputs": [
    {
     "data": {
      "text/html": [
       "<div>\n",
       "<style scoped>\n",
       "    .dataframe tbody tr th:only-of-type {\n",
       "        vertical-align: middle;\n",
       "    }\n",
       "\n",
       "    .dataframe tbody tr th {\n",
       "        vertical-align: top;\n",
       "    }\n",
       "\n",
       "    .dataframe thead th {\n",
       "        text-align: right;\n",
       "    }\n",
       "</style>\n",
       "<table border=\"1\" class=\"dataframe\">\n",
       "  <thead>\n",
       "    <tr style=\"text-align: right;\">\n",
       "      <th></th>\n",
       "      <th>Image</th>\n",
       "      <th>Id</th>\n",
       "    </tr>\n",
       "  </thead>\n",
       "  <tbody>\n",
       "    <tr>\n",
       "      <th>0</th>\n",
       "      <td>00028a005.jpg</td>\n",
       "      <td>new_whale w_23a388d w_9b5109b w_9c506f6 w_0369a5c</td>\n",
       "    </tr>\n",
       "  </tbody>\n",
       "</table>\n",
       "</div>"
      ],
      "text/plain": [
       "           Image                                                 Id\n",
       "0  00028a005.jpg  new_whale w_23a388d w_9b5109b w_9c506f6 w_0369a5c"
      ]
     },
     "execution_count": 18,
     "metadata": {},
     "output_type": "execute_result"
    }
   ],
   "source": [
    "testdf.head(1)"
   ]
  },
  {
   "cell_type": "code",
   "execution_count": 19,
   "metadata": {
    "_uuid": "17b1aabe891e79ea851b4953857d2e213d189523"
   },
   "outputs": [
    {
     "name": "stdout",
     "output_type": "stream",
     "text": [
      "Found 11823 images belonging to 5004 classes.\n",
      "Found 3874 images belonging to 5004 classes.\n",
      "Found 7960 images.\n"
     ]
    }
   ],
   "source": [
    "# Pass the dataframes to 2 different flow_from_dataframe functions\n",
    "# https://medium.com/@vijayabhaskar96/tutorial-on-keras-flow-from-dataframe-1fd4493d237c\n",
    "train_generator=datagen.flow_from_dataframe(\n",
    "dataframe=traindf,\n",
    "directory=\"../input/train/\",\n",
    "x_col=\"Image\",\n",
    "y_col=\"Id\",\n",
    "subset=\"training\",\n",
    "batch_size=32,\n",
    "seed=42,\n",
    "shuffle=True,\n",
    "class_mode=\"categorical\",\n",
    "target_size=(80,80))\n",
    "\n",
    "valid_generator=datagen.flow_from_dataframe(\n",
    "dataframe=traindf,\n",
    "directory=\"../input/train/\",\n",
    "x_col=\"Image\",\n",
    "y_col=\"Id\",\n",
    "subset=\"validation\",\n",
    "batch_size=32,\n",
    "seed=42,\n",
    "shuffle=True,\n",
    "class_mode=\"categorical\",\n",
    "target_size=(80,80))\n",
    "\n",
    "test_datagen=ImageDataGenerator(rescale=1./255.)\n",
    "\n",
    "test_generator=test_datagen.flow_from_dataframe(\n",
    "dataframe=testdf,\n",
    "directory=\"../input/test/\",\n",
    "x_col=\"Image\",\n",
    "y_col=None,\n",
    "batch_size=32,\n",
    "seed=42,\n",
    "shuffle=False,\n",
    "class_mode=None,\n",
    "target_size=(80,80))\n"
   ]
  },
  {
   "cell_type": "code",
   "execution_count": 20,
   "metadata": {
    "_uuid": "8c5edbb0be6a2744be4b83100117fc529c811966"
   },
   "outputs": [
    {
     "name": "stdout",
     "output_type": "stream",
     "text": [
      "The model is ready\n"
     ]
    }
   ],
   "source": [
    "# Model @frommedium\n",
    "# https://medium.com/@vijayabhaskar96/tutorial-on-keras-flow-from-dataframe-1fd4493d237c\n",
    "model = Sequential()\n",
    "model.add(Dense(512, activation='relu', input_shape=(80,80,3)))\n",
    "model.add(Dense(512, activation='relu'))\n",
    "model.add(Dense(number_of_classes, activation='softmax'))\n",
    "model.compile(optimizers.rmsprop(lr=0.0001, decay=1e-6),loss=\"categorical_crossentropy\",metrics=[\"accuracy\"])\n",
    "\n",
    "print(\"The model is ready\")\n"
   ]
  },
  {
   "cell_type": "code",
   "execution_count": 21,
   "metadata": {
    "_uuid": "a327641474e8e4f16db9425e2480df704c1b1670"
   },
   "outputs": [],
   "source": [
    "# Fit the model @frommedium\n",
    "# https://medium.com/@vijayabhaskar96/tutorial-on-keras-flow-from-dataframe-1fd4493d237c\n",
    "STEP_SIZE_TRAIN=train_generator.n//train_generator.batch_size\n",
    "STEP_SIZE_VALID=valid_generator.n//valid_generator.batch_size\n",
    "STEP_SIZE_TEST=test_generator.n//test_generator.batch_size\n",
    "# Class weights balancing\n",
    "history = model.fit_generator(generator=train_generator,\n",
    "                    steps_per_epoch=STEP_SIZE_TRAIN,\n",
    "                    validation_data=valid_generator,\n",
    "                    validation_steps=STEP_SIZE_VALID,\n",
    "                    class_weight='auto',\n",
    "                    epochs=1\n",
    ")"
   ]
  },
  {
   "cell_type": "code",
   "execution_count": 22,
   "metadata": {
    "_uuid": "76c432630680af5db7238f8fdbfc6bc79aa53ab9"
   },
   "outputs": [
    {
     "ename": "KeyError",
     "evalue": "'acc'",
     "output_type": "error",
     "traceback": [
      "\u001b[0;31m---------------------------------------------------------------------------\u001b[0m",
      "\u001b[0;31mKeyError\u001b[0m                                  Traceback (most recent call last)",
      "\u001b[0;32m<ipython-input-22-f1f02c175bde>\u001b[0m in \u001b[0;36m<module>\u001b[0;34m\u001b[0m\n\u001b[1;32m      8\u001b[0m \"\"\"\n\u001b[1;32m      9\u001b[0m \u001b[0;34m\u001b[0m\u001b[0m\n\u001b[0;32m---> 10\u001b[0;31m \u001b[0mplt\u001b[0m\u001b[0;34m.\u001b[0m\u001b[0mplot\u001b[0m\u001b[0;34m(\u001b[0m\u001b[0mhistory\u001b[0m\u001b[0;34m.\u001b[0m\u001b[0mhistory\u001b[0m\u001b[0;34m[\u001b[0m\u001b[0;34m'acc'\u001b[0m\u001b[0;34m]\u001b[0m\u001b[0;34m)\u001b[0m\u001b[0;34m\u001b[0m\u001b[0m\n\u001b[0m\u001b[1;32m     11\u001b[0m \u001b[0mplt\u001b[0m\u001b[0;34m.\u001b[0m\u001b[0mtitle\u001b[0m\u001b[0;34m(\u001b[0m\u001b[0;34m'Model accuracy'\u001b[0m\u001b[0;34m)\u001b[0m\u001b[0;34m\u001b[0m\u001b[0m\n\u001b[1;32m     12\u001b[0m \u001b[0mplt\u001b[0m\u001b[0;34m.\u001b[0m\u001b[0mylabel\u001b[0m\u001b[0;34m(\u001b[0m\u001b[0;34m'accuracy'\u001b[0m\u001b[0;34m)\u001b[0m\u001b[0;34m\u001b[0m\u001b[0m\n",
      "\u001b[0;31mKeyError\u001b[0m: 'acc'"
     ]
    }
   ],
   "source": [
    "# history plots\n",
    "\"\"\"\n",
    "plt.plot(history.history['categorical_crossentropy'])\n",
    "plt.title('Model categorical crossentropy')\n",
    "plt.ylabel('categorical crossentropy')\n",
    "plt.xlabel('Epoch')\n",
    "plt.show()\n",
    "\"\"\"\n",
    "\n",
    "plt.plot(history.history['acc'])\n",
    "plt.title('Model accuracy')\n",
    "plt.ylabel('accuracy')\n",
    "plt.xlabel('Epoch')\n",
    "plt.show()\n",
    "\n",
    "# Plot the loss curve for training\n",
    "plt.plot(history.history['loss'], color='r', label=\"Train Loss\")\n",
    "plt.title(\"Train Loss\")\n",
    "plt.xlabel(\"Number of Epochs\")\n",
    "plt.ylabel(\"Loss\")\n",
    "plt.legend()\n",
    "plt.show()\n"
   ]
  },
  {
   "cell_type": "code",
   "execution_count": null,
   "metadata": {
    "_uuid": "c9293c3f6eeed1df370336320229ff3aa5a0e6c2"
   },
   "outputs": [],
   "source": [
    "# Evaluate model\n",
    "# https://medium.com/@vijayabhaskar96/tutorial-on-keras-flow-from-dataframe-1fd4493d237c\n",
    "model.evaluate_generator(generator=valid_generator, steps=1)"
   ]
  },
  {
   "cell_type": "code",
   "execution_count": null,
   "metadata": {
    "_uuid": "37449802e63496676480bc645c6dbb3f17c8e3c9"
   },
   "outputs": [],
   "source": [
    "print(os.listdir(\".\"))"
   ]
  },
  {
   "cell_type": "code",
   "execution_count": null,
   "metadata": {
    "_kg_hide-output": true,
    "_uuid": "f1b92e7a9e0bc0f6130a092023943447137db546"
   },
   "outputs": [],
   "source": [
    "# Predict the output\n",
    "# https://medium.com/@vijayabhaskar96/tutorial-on-keras-flow-from-dataframe-1fd4493d237c\n",
    "\n",
    "test_generator.reset()\n",
    "pred=model.predict_generator(test_generator,\n",
    "steps=STEP_SIZE_TEST+1,\n",
    "verbose=1)\n",
    "\n",
    "predicted_class_indices=np.argmax(pred,axis=1)\n",
    "\n",
    "labels = (train_generator.class_indices)\n",
    "labels = dict((v,k) for k,v in labels.items())\n",
    "predictions = [labels[k] for k in predicted_class_indices]\n",
    "\n",
    "filenames=test_generator.filenames\n",
    "\n",
    "\n",
    "print(\"filenames were prepared\")"
   ]
  },
  {
   "cell_type": "code",
   "execution_count": null,
   "metadata": {
    "_uuid": "8769dc3c129d44a3e1afe5f2c6d51714cf7f4bde"
   },
   "outputs": [],
   "source": [
    "# multiple classes output\n",
    "# https://www.kaggle.com/hexadd5/simple-resnet50-with-keras\n",
    "kth = 5\n",
    "classes = np.array([c for c, v in train_generator.class_indices.items()])\n",
    "\n",
    "if True:\n",
    "    classify_index = np.argpartition(-pred, kth)[:, :kth]\n",
    "    classify_value = pred[np.arange(pred.shape[0])[:, None], classify_index]\n",
    "    best_5_pred = np.zeros((len(classify_index), 5))\n",
    "    best_5_class = np.zeros((len(classify_index), 5), dtype='int32')\n",
    "    for i, p in enumerate(classify_value):\n",
    "        sort_index = np.argsort(p)[::-1]\n",
    "        best_5_pred[i] = (p[sort_index])\n",
    "        best_5_class[i] = (classify_index[i][sort_index])\n",
    "        \n",
    "    # create output\n",
    "    submit = pd.DataFrame(columns=['Image', 'Id'])\n",
    "    for i, p in enumerate(best_5_pred):\n",
    "        submit_classes = []\n",
    "        if p[0] < 0.55:\n",
    "            submit_classes.append('new_whale')\n",
    "            submit_classes.extend(classes[best_5_class[i]][0:4])\n",
    "        elif p[1] < 0.4 :\n",
    "            submit_classes.extend(classes[best_5_class[i]][0:1])\n",
    "            submit_classes.append('new_whale')\n",
    "            submit_classes.extend(classes[best_5_class[i]][1:4])\n",
    "        elif p[2] < 0.1 :\n",
    "            submit_classes.extend(classes[best_5_class[i]][0:2])\n",
    "            submit_classes.append('new_whale')\n",
    "            submit_classes.extend(classes[best_5_class[i]][2:4])\n",
    "        elif p[3] < 0.05 :\n",
    "            submit_classes.extend(classes[best_5_class[i]][0:3])\n",
    "            submit_classes.append('new_whale')\n",
    "            submit_classes.extend(classes[best_5_class[i]][3:4])\n",
    "        else:\n",
    "            submit_classes.extend(classes[best_5_class[i]])\n",
    "        classes_text = ' '.join(submit_classes)\n",
    "        submit = submit.append(pd.Series(np.array([test_generator.filenames[i], classes_text]), index=submit.columns), ignore_index=True)\n",
    "        # print(submit)\n",
    "    submit.to_csv('submit.csv', index=False)\n",
    "    print(\"submit results were written to the output\")"
   ]
  },
  {
   "cell_type": "code",
   "execution_count": null,
   "metadata": {
    "_kg_hide-input": true,
    "_kg_hide-output": true,
    "_uuid": "3095986b6c2a4f9291b8c1264112f4cee651b221"
   },
   "outputs": [],
   "source": [
    "print(os.listdir(\".\"))\n",
    "results=pd.DataFrame({\"Filename\":filenames})\n",
    "results_pred=pd.DataFrame({\"Predictions\":predictions})\n",
    "results.to_csv(\"results.csv\",index=False)\n",
    "results_pred.to_csv(\"results_pred.csv\",index=False)\n",
    "print(os.listdir(\"..\"))\n",
    "print(\"results were written to the output\")"
   ]
  }
 ],
 "metadata": {
  "kernelspec": {
   "display_name": "Python 3",
   "language": "python",
   "name": "python3"
  },
  "language_info": {
   "codemirror_mode": {
    "name": "ipython",
    "version": 3
   },
   "file_extension": ".py",
   "mimetype": "text/x-python",
   "name": "python",
   "nbconvert_exporter": "python",
   "pygments_lexer": "ipython3",
   "version": "3.6.5"
  }
 },
 "nbformat": 4,
 "nbformat_minor": 1
}
